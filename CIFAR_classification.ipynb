{
  "cells": [
    {
      "cell_type": "code",
      "execution_count": 3,
      "metadata": {
        "colab": {
          "base_uri": "https://localhost:8080/"
        },
        "id": "AXbnNNqkD5_X",
        "outputId": "5965d18a-f048-442e-f4aa-26c3f30a1370"
      },
      "outputs": [
        {
          "output_type": "stream",
          "name": "stdout",
          "text": [
            "Requirement already satisfied: einops in /usr/local/lib/python3.10/dist-packages (0.7.0)\n",
            "Traceback (most recent call last):\n",
            "  File \"/usr/local/lib/python3.10/dist-packages/pip/_vendor/pkg_resources/__init__.py\", line 3108, in _dep_map\n",
            "    return self.__dep_map\n",
            "  File \"/usr/local/lib/python3.10/dist-packages/pip/_vendor/pkg_resources/__init__.py\", line 2901, in __getattr__\n",
            "    raise AttributeError(attr)\n",
            "AttributeError: _DistInfoDistribution__dep_map\n",
            "\n",
            "During handling of the above exception, another exception occurred:\n",
            "\n",
            "Traceback (most recent call last):\n",
            "  File \"/usr/local/lib/python3.10/dist-packages/pip/_internal/cli/base_command.py\", line 169, in exc_logging_wrapper\n",
            "    status = run_func(*args)\n",
            "  File \"/usr/local/lib/python3.10/dist-packages/pip/_internal/cli/req_command.py\", line 242, in wrapper\n",
            "    return func(self, options, args)\n",
            "  File \"/usr/local/lib/python3.10/dist-packages/pip/_internal/commands/install.py\", line 441, in run\n",
            "    conflicts = self._determine_conflicts(to_install)\n",
            "  File \"/usr/local/lib/python3.10/dist-packages/pip/_internal/commands/install.py\", line 572, in _determine_conflicts\n",
            "    return check_install_conflicts(to_install)\n",
            "  File \"/usr/local/lib/python3.10/dist-packages/pip/_internal/operations/check.py\", line 101, in check_install_conflicts\n",
            "    package_set, _ = create_package_set_from_installed()\n",
            "  File \"/usr/local/lib/python3.10/dist-packages/pip/_internal/operations/check.py\", line 42, in create_package_set_from_installed\n",
            "    dependencies = list(dist.iter_dependencies())\n",
            "  File \"/usr/local/lib/python3.10/dist-packages/pip/_internal/metadata/pkg_resources.py\", line 216, in iter_dependencies\n",
            "    return self._dist.requires(extras)\n",
            "  File \"/usr/local/lib/python3.10/dist-packages/pip/_vendor/pkg_resources/__init__.py\", line 2821, in requires\n",
            "    dm = self._dep_map\n",
            "  File \"/usr/local/lib/python3.10/dist-packages/pip/_vendor/pkg_resources/__init__.py\", line 3110, in _dep_map\n",
            "    self.__dep_map = self._compute_dependencies()\n",
            "  File \"/usr/local/lib/python3.10/dist-packages/pip/_vendor/pkg_resources/__init__.py\", line 3120, in _compute_dependencies\n",
            "    reqs.extend(parse_requirements(req))\n",
            "  File \"/usr/local/lib/python3.10/dist-packages/pip/_vendor/pkg_resources/__init__.py\", line 3173, in __init__\n",
            "    super(Requirement, self).__init__(requirement_string)\n",
            "  File \"/usr/local/lib/python3.10/dist-packages/pip/_vendor/packaging/requirements.py\", line 102, in __init__\n",
            "    req = REQUIREMENT.parseString(requirement_string)\n",
            "  File \"/usr/local/lib/python3.10/dist-packages/pip/_vendor/pyparsing/core.py\", line 1131, in parse_string\n",
            "    loc, tokens = self._parse(instring, 0)\n",
            "  File \"/usr/local/lib/python3.10/dist-packages/pip/_vendor/pyparsing/core.py\", line 817, in _parseNoCache\n",
            "    loc, tokens = self.parseImpl(instring, pre_loc, doActions)\n",
            "  File \"/usr/local/lib/python3.10/dist-packages/pip/_vendor/pyparsing/core.py\", line 3886, in parseImpl\n",
            "    loc, exprtokens = e._parse(instring, loc, doActions)\n",
            "  File \"/usr/local/lib/python3.10/dist-packages/pip/_vendor/pyparsing/core.py\", line 817, in _parseNoCache\n",
            "    loc, tokens = self.parseImpl(instring, pre_loc, doActions)\n",
            "  File \"/usr/local/lib/python3.10/dist-packages/pip/_vendor/pyparsing/core.py\", line 4114, in parseImpl\n",
            "    return e._parse(\n",
            "  File \"/usr/local/lib/python3.10/dist-packages/pip/_vendor/pyparsing/core.py\", line 817, in _parseNoCache\n",
            "    loc, tokens = self.parseImpl(instring, pre_loc, doActions)\n",
            "  File \"/usr/local/lib/python3.10/dist-packages/pip/_vendor/pyparsing/core.py\", line 3886, in parseImpl\n",
            "    loc, exprtokens = e._parse(instring, loc, doActions)\n",
            "  File \"/usr/local/lib/python3.10/dist-packages/pip/_vendor/pyparsing/core.py\", line 817, in _parseNoCache\n",
            "    loc, tokens = self.parseImpl(instring, pre_loc, doActions)\n",
            "  File \"/usr/local/lib/python3.10/dist-packages/pip/_vendor/pyparsing/core.py\", line 4959, in parseImpl\n",
            "    loc, tokens = self_expr._parse(instring, loc, doActions, callPreParse=False)\n",
            "  File \"/usr/local/lib/python3.10/dist-packages/pip/_vendor/pyparsing/core.py\", line 817, in _parseNoCache\n",
            "    loc, tokens = self.parseImpl(instring, pre_loc, doActions)\n",
            "  File \"/usr/local/lib/python3.10/dist-packages/pip/_vendor/pyparsing/core.py\", line 3864, in parseImpl\n",
            "    loc, resultlist = self.exprs[0]._parse(\n",
            "  File \"/usr/local/lib/python3.10/dist-packages/pip/_vendor/pyparsing/core.py\", line 825, in _parseNoCache\n",
            "    ret_tokens = ParseResults(\n",
            "  File \"/usr/local/lib/python3.10/dist-packages/pip/_vendor/pyparsing/results.py\", line 139, in __new__\n",
            "    self = object.__new__(cls)\n",
            "KeyboardInterrupt\n",
            "\n",
            "During handling of the above exception, another exception occurred:\n",
            "\n",
            "Traceback (most recent call last):\n",
            "  File \"/usr/lib/python3.10/logging/__init__.py\", line 1732, in isEnabledFor\n",
            "    return self._cache[level]\n",
            "KeyError: 50\n",
            "\n",
            "During handling of the above exception, another exception occurred:\n",
            "\n",
            "Traceback (most recent call last):\n",
            "  File \"/usr/local/bin/pip3\", line 8, in <module>\n",
            "    sys.exit(main())\n",
            "  File \"/usr/local/lib/python3.10/dist-packages/pip/_internal/cli/main.py\", line 79, in main\n",
            "    return command.main(cmd_args)\n",
            "  File \"/usr/local/lib/python3.10/dist-packages/pip/_internal/cli/base_command.py\", line 101, in main\n",
            "    return self._main(args)\n",
            "  File \"/usr/local/lib/python3.10/dist-packages/pip/_internal/cli/base_command.py\", line 223, in _main\n",
            "    return run(options, args)\n",
            "  File \"/usr/local/lib/python3.10/dist-packages/pip/_internal/cli/base_command.py\", line 206, in exc_logging_wrapper\n",
            "    logger.critical(\"Operation cancelled by user\")\n",
            "  File \"/usr/lib/python3.10/logging/__init__.py\", line 1523, in critical\n",
            "    if self.isEnabledFor(CRITICAL):\n",
            "  File \"/usr/lib/python3.10/logging/__init__.py\", line 1740, in isEnabledFor\n",
            "    level >= self.getEffectiveLevel()\n",
            "  File \"/usr/lib/python3.10/logging/__init__.py\", line 1718, in getEffectiveLevel\n",
            "    while logger:\n",
            "KeyboardInterrupt\n",
            "^C\n",
            "Requirement already satisfied: torchmetrics in /usr/local/lib/python3.10/dist-packages (1.2.0)\n",
            "Requirement already satisfied: numpy>1.20.0 in /usr/local/lib/python3.10/dist-packages (from torchmetrics) (1.23.5)\n",
            "Requirement already satisfied: torch>=1.8.1 in /usr/local/lib/python3.10/dist-packages (from torchmetrics) (2.0.1+cu118)\n",
            "Requirement already satisfied: lightning-utilities>=0.8.0 in /usr/local/lib/python3.10/dist-packages (from torchmetrics) (0.9.0)\n",
            "Requirement already satisfied: packaging>=17.1 in /usr/local/lib/python3.10/dist-packages (from lightning-utilities>=0.8.0->torchmetrics) (23.2)\n",
            "Requirement already satisfied: typing-extensions in /usr/local/lib/python3.10/dist-packages (from lightning-utilities>=0.8.0->torchmetrics) (4.5.0)\n",
            "Requirement already satisfied: filelock in /usr/local/lib/python3.10/dist-packages (from torch>=1.8.1->torchmetrics) (3.12.4)\n",
            "Requirement already satisfied: sympy in /usr/local/lib/python3.10/dist-packages (from torch>=1.8.1->torchmetrics) (1.12)\n",
            "Requirement already satisfied: networkx in /usr/local/lib/python3.10/dist-packages (from torch>=1.8.1->torchmetrics) (3.1)\n",
            "Requirement already satisfied: jinja2 in /usr/local/lib/python3.10/dist-packages (from torch>=1.8.1->torchmetrics) (3.1.2)\n",
            "Requirement already satisfied: triton==2.0.0 in /usr/local/lib/python3.10/dist-packages (from torch>=1.8.1->torchmetrics) (2.0.0)\n",
            "Requirement already satisfied: cmake in /usr/local/lib/python3.10/dist-packages (from triton==2.0.0->torch>=1.8.1->torchmetrics) (3.27.6)\n",
            "Requirement already satisfied: lit in /usr/local/lib/python3.10/dist-packages (from triton==2.0.0->torch>=1.8.1->torchmetrics) (17.0.2)\n",
            "Requirement already satisfied: MarkupSafe>=2.0 in /usr/local/lib/python3.10/dist-packages (from jinja2->torch>=1.8.1->torchmetrics) (2.1.3)\n",
            "Requirement already satisfied: mpmath>=0.19 in /usr/local/lib/python3.10/dist-packages (from sympy->torch>=1.8.1->torchmetrics) (1.3.0)\n",
            "\u001b[31mERROR: Operation cancelled by user\u001b[0m\u001b[31m\n",
            "\u001b[0mTraceback (most recent call last):\n",
            "  File \"/usr/local/lib/python3.10/dist-packages/pip/_vendor/pkg_resources/__init__.py\", line 3108, in _dep_map\n",
            "    return self.__dep_map\n",
            "  File \"/usr/local/lib/python3.10/dist-packages/pip/_vendor/pkg_resources/__init__.py\", line 2901, in __getattr__\n",
            "    raise AttributeError(attr)\n",
            "AttributeError: _DistInfoDistribution__dep_map\n",
            "\n",
            "During handling of the above exception, another exception occurred:\n",
            "\n",
            "Traceback (most recent call last):\n",
            "  File \"/usr/local/lib/python3.10/dist-packages/pip/_vendor/pkg_resources/__init__.py\", line 3099, in _parsed_pkg_info\n",
            "    return self._pkg_info\n",
            "  File \"/usr/local/lib/python3.10/dist-packages/pip/_vendor/pkg_resources/__init__.py\", line 2901, in __getattr__\n",
            "    raise AttributeError(attr)\n",
            "AttributeError: _pkg_info. Did you mean: 'egg_info'?\n",
            "\n",
            "During handling of the above exception, another exception occurred:\n",
            "\n",
            "Traceback (most recent call last):\n",
            "  File \"/usr/local/lib/python3.10/dist-packages/pip/_internal/cli/base_command.py\", line 169, in exc_logging_wrapper\n",
            "    status = run_func(*args)\n",
            "  File \"/usr/local/lib/python3.10/dist-packages/pip/_internal/cli/req_command.py\", line 242, in wrapper\n",
            "    return func(self, options, args)\n",
            "  File \"/usr/local/lib/python3.10/dist-packages/pip/_internal/commands/install.py\", line 441, in run\n",
            "    conflicts = self._determine_conflicts(to_install)\n",
            "  File \"/usr/local/lib/python3.10/dist-packages/pip/_internal/commands/install.py\", line 572, in _determine_conflicts\n",
            "    return check_install_conflicts(to_install)\n",
            "  File \"/usr/local/lib/python3.10/dist-packages/pip/_internal/operations/check.py\", line 101, in check_install_conflicts\n",
            "    package_set, _ = create_package_set_from_installed()\n",
            "  File \"/usr/local/lib/python3.10/dist-packages/pip/_internal/operations/check.py\", line 42, in create_package_set_from_installed\n",
            "    dependencies = list(dist.iter_dependencies())\n",
            "  File \"/usr/local/lib/python3.10/dist-packages/pip/_internal/metadata/pkg_resources.py\", line 216, in iter_dependencies\n",
            "    return self._dist.requires(extras)\n",
            "  File \"/usr/local/lib/python3.10/dist-packages/pip/_vendor/pkg_resources/__init__.py\", line 2821, in requires\n",
            "    dm = self._dep_map\n",
            "  File \"/usr/local/lib/python3.10/dist-packages/pip/_vendor/pkg_resources/__init__.py\", line 3110, in _dep_map\n",
            "    self.__dep_map = self._compute_dependencies()\n",
            "  File \"/usr/local/lib/python3.10/dist-packages/pip/_vendor/pkg_resources/__init__.py\", line 3119, in _compute_dependencies\n",
            "    for req in self._parsed_pkg_info.get_all('Requires-Dist') or []:\n",
            "  File \"/usr/local/lib/python3.10/dist-packages/pip/_vendor/pkg_resources/__init__.py\", line 3102, in _parsed_pkg_info\n",
            "    self._pkg_info = email.parser.Parser().parsestr(metadata)\n",
            "  File \"/usr/lib/python3.10/email/parser.py\", line 67, in parsestr\n",
            "    return self.parse(StringIO(text), headersonly=headersonly)\n",
            "  File \"/usr/lib/python3.10/email/parser.py\", line 56, in parse\n",
            "    feedparser.feed(data)\n",
            "  File \"/usr/lib/python3.10/email/feedparser.py\", line 176, in feed\n",
            "    self._call_parse()\n",
            "  File \"/usr/lib/python3.10/email/feedparser.py\", line 180, in _call_parse\n",
            "    self._parse()\n",
            "  File \"/usr/lib/python3.10/email/feedparser.py\", line 464, in _parsegen\n",
            "    for line in self._input:\n",
            "  File \"/usr/lib/python3.10/email/feedparser.py\", line 128, in __next__\n",
            "    def __next__(self):\n",
            "KeyboardInterrupt\n",
            "\n",
            "During handling of the above exception, another exception occurred:\n",
            "\n",
            "Traceback (most recent call last):\n",
            "  File \"/usr/local/bin/pip3\", line 8, in <module>\n",
            "    sys.exit(main())\n",
            "  File \"/usr/local/lib/python3.10/dist-packages/pip/_internal/cli/main.py\", line 79, in main\n",
            "    return command.main(cmd_args)\n",
            "  File \"/usr/local/lib/python3.10/dist-packages/pip/_internal/cli/base_command.py\", line 101, in main\n",
            "    return self._main(args)\n",
            "  File \"/usr/local/lib/python3.10/dist-packages/pip/_internal/cli/base_command.py\", line 223, in _main\n",
            "    return run(options, args)\n",
            "  File \"/usr/local/lib/python3.10/dist-packages/pip/_internal/cli/base_command.py\", line 207, in exc_logging_wrapper\n",
            "    logger.debug(\"Exception information:\", exc_info=True)\n",
            "  File \"/usr/lib/python3.10/logging/__init__.py\", line 1465, in debug\n",
            "    self._log(DEBUG, msg, args, **kwargs)\n",
            "  File \"/usr/lib/python3.10/logging/__init__.py\", line 1624, in _log\n",
            "    self.handle(record)\n",
            "  File \"/usr/lib/python3.10/logging/__init__.py\", line 1634, in handle\n",
            "    self.callHandlers(record)\n",
            "  File \"/usr/lib/python3.10/logging/__init__.py\", line 1696, in callHandlers\n",
            "    hdlr.handle(record)\n",
            "  File \"/usr/lib/python3.10/logging/__init__.py\", line 968, in handle\n",
            "    self.emit(record)\n",
            "  File \"/usr/lib/python3.10/logging/handlers.py\", line 75, in emit\n",
            "    logging.FileHandler.emit(self, record)\n",
            "  File \"/usr/lib/python3.10/logging/__init__.py\", line 1218, in emit\n",
            "    StreamHandler.emit(self, record)\n",
            "  File \"/usr/lib/python3.10/logging/__init__.py\", line 1100, in emit\n",
            "    msg = self.format(record)\n",
            "  File \"/usr/lib/python3.10/logging/__init__.py\", line 943, in format\n",
            "    return fmt.format(record)\n",
            "  File \"/usr/local/lib/python3.10/dist-packages/pip/_internal/utils/logging.py\", line 112, in format\n",
            "    formatted = super().format(record)\n",
            "  File \"/usr/lib/python3.10/logging/__init__.py\", line 686, in format\n",
            "    record.exc_text = self.formatException(record.exc_info)\n",
            "  File \"/usr/lib/python3.10/logging/__init__.py\", line 636, in formatException\n",
            "    traceback.print_exception(ei[0], ei[1], tb, None, sio)\n",
            "  File \"/usr/lib/python3.10/traceback.py\", line 119, in print_exception\n",
            "    te = TracebackException(type(value), value, tb, limit=limit, compact=True)\n",
            "  File \"/usr/lib/python3.10/traceback.py\", line 502, in __init__\n",
            "    self.stack = StackSummary.extract(\n",
            "  File \"/usr/lib/python3.10/traceback.py\", line 383, in extract\n",
            "    f.line\n",
            "  File \"/usr/lib/python3.10/traceback.py\", line 306, in line\n",
            "    self._line = linecache.getline(self.filename, self.lineno)\n",
            "  File \"/usr/lib/python3.10/linecache.py\", line 30, in getline\n",
            "    lines = getlines(filename, module_globals)\n",
            "  File \"/usr/lib/python3.10/linecache.py\", line 46, in getlines\n",
            "    return updatecache(filename, module_globals)\n",
            "  File \"/usr/lib/python3.10/linecache.py\", line 137, in updatecache\n",
            "    lines = fp.readlines()\n",
            "  File \"/usr/lib/python3.10/codecs.py\", line 319, in decode\n",
            "    def decode(self, input, final=False):\n",
            "KeyboardInterrupt\n",
            "^C\n"
          ]
        }
      ],
      "source": [
        "!pip install einops\n",
        "!pip install torchmetrics\n",
        "import einops\n",
        "import pickle\n",
        "import torch\n",
        "import torch.nn as nn\n",
        "import torch.nn.functional as F\n",
        "import torch.optim as optim\n",
        "import torchmetrics\n",
        "from torchvision import transforms\n",
        "import math\n",
        "import matplotlib.pyplot as plt\n",
        "%matplotlib inline\n",
        "import numpy as np"
      ]
    },
    {
      "cell_type": "code",
      "source": [
        "# This code was initially written in Colab so I stored the dataset in my Google Drive. If accessing dataset locally, please comment out the below code\n",
        "from google.colab import drive\n",
        "drive.mount('/content/drive')"
      ],
      "metadata": {
        "colab": {
          "base_uri": "https://localhost:8080/"
        },
        "id": "WRyuAH6REH_Y",
        "outputId": "d19fec94-726d-4e2c-f465-4341445a1e1d"
      },
      "execution_count": 30,
      "outputs": [
        {
          "output_type": "stream",
          "name": "stdout",
          "text": [
            "Drive already mounted at /content/drive; to attempt to forcibly remount, call drive.mount(\"/content/drive\", force_remount=True).\n"
          ]
        }
      ]
    },
    {
      "cell_type": "markdown",
      "metadata": {
        "id": "5oZSibreD5_Y"
      },
      "source": [
        "# CIFAR-10 Dataset\n",
        "\n",
        "The CIFAR-10 Dataset contains 60,000 32x32 RBG images in 10 classes. The unpickle function allows us to access the dataset as a dictionary."
      ]
    },
    {
      "cell_type": "code",
      "execution_count": 31,
      "metadata": {
        "id": "VkrgkLVuD5_Z"
      },
      "outputs": [],
      "source": [
        "def unpickle(file):\n",
        "    with open(file, 'rb') as fo:\n",
        "        dict = pickle.load(fo, encoding='bytes')\n",
        "    return dict"
      ]
    },
    {
      "cell_type": "code",
      "execution_count": 32,
      "metadata": {
        "colab": {
          "base_uri": "https://localhost:8080/"
        },
        "id": "eclYpeQxD5_Z",
        "outputId": "8cfd06c7-489b-4d59-9b3e-077bbcf3568a"
      },
      "outputs": [
        {
          "output_type": "stream",
          "name": "stdout",
          "text": [
            "[b'airplane', b'automobile', b'bird', b'cat', b'deer', b'dog', b'frog', b'horse', b'ship', b'truck']\n"
          ]
        }
      ],
      "source": [
        "data_meta = unpickle('/content/drive/MyDrive/cifar-10-batches-py/batches.meta')\n",
        "print(data_meta[b'label_names'])\n"
      ]
    },
    {
      "cell_type": "markdown",
      "metadata": {
        "id": "e1CqFm8DD5_a"
      },
      "source": [
        "# Reshape of Data\n",
        "\n",
        "Before we begin training our model, we want to change the shape of our data so we can apply convolutions more easily. Let's begin by changing the shape of our inputs. The CIFAR dataset page says:\n",
        "\n",
        "> a 10000x3072 numpy array of uint8s. Each row of the array stores a 32x32 colour image. The first 1024 entries contain the red channel values, the next 1024 the green, and the final 1024 the blue. The image is stored in row-major order, so that the first 32 entries of the array are the red channel values of the first row of the image.\n",
        "\n",
        "We want to change the data such that it has the shape (image_count=10000, RGB_channel=3, height=32, width=32)."
      ]
    },
    {
      "cell_type": "code",
      "execution_count": 33,
      "metadata": {
        "id": "ryFGxFiqD5_a"
      },
      "outputs": [],
      "source": [
        "def adjustShapeForConv(batch):\n",
        "\n",
        "    # our model takes in dtype=torch.float so\n",
        "    batch[b'data'] = torch.tensor(batch[b'data'], dtype=torch.float)\n",
        "    batch[b'labels'] = torch.tensor(batch[b'labels'])\n",
        "\n",
        "    # We need to change our data slightly to comply with pytorch's conv2d function\n",
        "    # Separate the red, green, and blue channels\n",
        "    red, green, blue = torch.split(batch[b'data'], 1024, dim=-1)\n",
        "    rbg_shape = (10000, 32, 32)\n",
        "    red, green, blue = red.view(rbg_shape), green.view(rbg_shape), blue.view(rbg_shape)\n",
        "\n",
        "    # Recombine in format suitable for convolution\n",
        "    batch[b'data'] = torch.stack((red, green, blue), dim=3)\n",
        "    batch[b'data'] = einops.rearrange(batch[b'data'], 'N h w RGB -> N RGB h w')\n"
      ]
    },
    {
      "cell_type": "code",
      "execution_count": 34,
      "metadata": {
        "id": "sBAhuFziD5_b"
      },
      "outputs": [],
      "source": [
        "# load the data\n",
        "\n",
        "train_batches = [\n",
        "    unpickle('/content/drive/MyDrive/cifar-10-batches-py/data_batch_1'),\n",
        "    unpickle('/content/drive/MyDrive/cifar-10-batches-py/data_batch_2'),\n",
        "    unpickle('/content/drive/MyDrive/cifar-10-batches-py/data_batch_3'),\n",
        "    unpickle('/content/drive/MyDrive/cifar-10-batches-py/data_batch_4'),\n",
        "    unpickle('/content/drive/MyDrive/cifar-10-batches-py/data_batch_5')]\n",
        "\n",
        "test_batch = unpickle('/content/drive/MyDrive/cifar-10-batches-py/test_batch')\n",
        "\n",
        "for batch in train_batches:\n",
        "    adjustShapeForConv(batch)\n",
        "\n",
        "adjustShapeForConv(test_batch)\n",
        "\n",
        "# data_batch_1[b'data'].shape == (10000, 3, 32, 32)"
      ]
    },
    {
      "cell_type": "markdown",
      "metadata": {
        "id": "pq3cqTz_D5_b"
      },
      "source": [
        "# Visualizing the Data"
      ]
    },
    {
      "cell_type": "code",
      "execution_count": 35,
      "metadata": {
        "id": "u5j7-CjiD5_b"
      },
      "outputs": [],
      "source": [
        "def showData(batch, data_meta):\n",
        "    # Convert data to pytorch tensors\n",
        "    sample_data = batch[b'data'].permute(0, 2, 3, 1).type(torch.uint8)\n",
        "    sample_labels = batch[b'labels']\n",
        "    # imgs.shape == (10000, 32, 32, 3), where the last dim contains the RGB value\n",
        "\n",
        "    fig = plt.figure(figsize=(10, 4))\n",
        "    rows = 2\n",
        "    columns = 5\n",
        "    for i in range(10):\n",
        "        fig.add_subplot(rows, columns, i+1)\n",
        "        plt.imshow(sample_data[i], interpolation='nearest')\n",
        "        plt.axis('off')\n",
        "        plt.title(data_meta[b'label_names'][sample_labels[i]].decode('utf-8'))\n",
        "    plt.show()"
      ]
    },
    {
      "cell_type": "code",
      "execution_count": 36,
      "metadata": {
        "colab": {
          "base_uri": "https://localhost:8080/",
          "height": 360
        },
        "id": "r0hoKreGD5_b",
        "outputId": "bce6d7b1-b5c2-490e-83d2-4e6d3dde6459"
      },
      "outputs": [
        {
          "output_type": "display_data",
          "data": {
            "text/plain": [
              "<Figure size 1000x400 with 10 Axes>"
            ],
            "image/png": "[encoded data removed]"
          },
          "metadata": {}
        }
      ],
      "source": [
        "showData(train_batches[0], data_meta)"
      ]
    },
    {
      "cell_type": "markdown",
      "metadata": {
        "id": "7KzF9AQqD5_b"
      },
      "source": [
        "# Why We Use Convolutional Neural Network Over a Traditional MLP\n",
        "\n",
        "Our images are 32x32 arrays that could be flattened into 1024x1 vectors and fed into an MLP. This approach does not work on relatively complex images because by flattening the image, we fail to capture spatial dependencies in the images. CNNs, on the other hand, do capture spatial dependencies!"
      ]
    },
    {
      "cell_type": "code",
      "execution_count": 37,
      "metadata": {
        "id": "2lkZwKNYD5_c"
      },
      "outputs": [],
      "source": [
        "class CNN(nn.Module):\n",
        "    def __init__(self):\n",
        "        super().__init__()\n",
        "\n",
        "        self.conv1    = nn.Conv2d(in_channels=3, out_channels=32, kernel_size=3, padding=1)\n",
        "        self.bn1      = nn.BatchNorm2d(32)\n",
        "        self.relu1    = nn.ReLU()\n",
        "        self.dropout1 = nn.Dropout(0.1)\n",
        "        self.conv2    = nn.Conv2d(32, 64, 3, padding=1)\n",
        "        self.bn2      = nn.BatchNorm2d(64)\n",
        "        self.relu2    = nn.ReLU()\n",
        "        self.dropout2 = nn.Dropout(0.1)\n",
        "        self.pool1    = nn.MaxPool2d(kernel_size=2, stride=2)\n",
        "\n",
        "        self.conv3    = nn.Conv2d(64, 128, 3, padding=1)\n",
        "        self.bn3      = nn.BatchNorm2d(128)\n",
        "        self.relu3    = nn.ReLU()\n",
        "        self.dropout3 = nn.Dropout(0.1)\n",
        "        self.conv4    = nn.Conv2d(128, 196, 3, padding=1)\n",
        "        self.bn4      = nn.BatchNorm2d(196)\n",
        "        self.relu4    = nn.ReLU()\n",
        "        self.dropout4 = nn.Dropout(0.1)\n",
        "        self.pool2    = nn.MaxPool2d(2, 2)\n",
        "\n",
        "        self.conv5    = nn.Conv2d(196, 256, 3, padding=1)\n",
        "        self.bn5      = nn.BatchNorm2d(256)\n",
        "        self.relu5    = nn.ReLU()\n",
        "        self.dropout5 = nn.Dropout(0.1)\n",
        "        self.conv6    = nn.Conv2d(256, 384, 3, padding=1)\n",
        "        self.bn6      = nn.BatchNorm2d(384)\n",
        "        self.relu6    = nn.ReLU()\n",
        "        self.dropout6 = nn.Dropout(0.1)\n",
        "        self.pool3    = nn.MaxPool2d(2, 2)\n",
        "\n",
        "        self.flatten  = nn.Flatten()\n",
        "        self.dropout7 = nn.Dropout(0.5)\n",
        "        self.fc1      = nn.Linear(in_features=6144, out_features=512)\n",
        "        self.bn7      = nn.BatchNorm1d(512)\n",
        "        self.relu7    = nn.ReLU()\n",
        "        self.dropout8 = nn.Dropout(0.5)\n",
        "        self.fc2      = nn.Linear(in_features=512, out_features=128)\n",
        "        self.bn8      = nn.BatchNorm1d(128)\n",
        "        self.relu8    = nn.ReLU()\n",
        "        self.fc3      = nn.Linear(in_features=128, out_features=10)\n",
        "\n",
        "        # Initialize weights using Xavier (Glorot) Uniform initialization\n",
        "        for layer in self.modules():\n",
        "            if isinstance(layer, nn.Conv2d) or isinstance(layer, nn.Linear):\n",
        "                nn.init.xavier_uniform_(layer.weight)\n",
        "\n",
        "    def forward(self, x):\n",
        "        x = self.pool1(self.dropout2(self.relu2(self.bn2(self.conv2(self.dropout1(self.relu1(self.bn1(self.conv1(x)))))))))\n",
        "\n",
        "        x = self.pool2(self.dropout4(self.relu4(self.bn4(self.conv4(self.dropout3(self.relu3(self.bn3(self.conv3(x)))))))))\n",
        "\n",
        "        x = self.pool3(self.dropout6(self.relu6(self.bn6(self.conv6(self.dropout5(self.relu5(self.bn5(self.conv5(x)))))))))\n",
        "\n",
        "        x = self.fc3(self.relu8(self.bn8(self.fc2(self.dropout8(self.relu7(self.bn7(self.fc1(self.dropout7(self.flatten(x))))))))))\n",
        "\n",
        "        return x"
      ]
    },
    {
      "cell_type": "markdown",
      "metadata": {
        "id": "qlQIWvs7D5_c"
      },
      "source": [
        "# Data Augmentation\n",
        "\n",
        "## Vertically Mirroring Images to Increase Training Data Size\n",
        "\n",
        "We will augment our data by mirror all training images so we have twice as much data to train on! We can apply vertical mirror transformations on our data because it makes sense intuitively for a car/frog to either be facing left or right. We can't, however, rotate our images or horizontally mirror our images because such images wouldn't exist in real life (e.g. we don't see upside-down frogs or trucks that often!)."
      ]
    },
    {
      "cell_type": "code",
      "source": [
        "for i in range(5):\n",
        "    new_batch = train_batches[i].copy()\n",
        "    new_batch[b'data'] = torch.flip(new_batch[b'data'], (-1,))\n",
        "    train_batches.append(new_batch)"
      ],
      "metadata": {
        "id": "qKxPGjqA5w0D"
      },
      "execution_count": 38,
      "outputs": []
    },
    {
      "cell_type": "markdown",
      "source": [
        "We now have 10 batches of training data (100,000 total images)! Then, we will combine all our train data into one tensor so we can easily batch while training."
      ],
      "metadata": {
        "id": "mZKtOLd65xiO"
      }
    },
    {
      "cell_type": "code",
      "execution_count": 39,
      "metadata": {
        "id": "w_X6H8ppD5_c",
        "colab": {
          "base_uri": "https://localhost:8080/"
        },
        "outputId": "d401c417-f5cc-4e4c-fba3-c14aa73c2db1"
      },
      "outputs": [
        {
          "output_type": "stream",
          "name": "stdout",
          "text": [
            "torch.Size([100000, 3, 32, 32])\n",
            "torch.Size([100000])\n"
          ]
        }
      ],
      "source": [
        "for i, batch in enumerate(train_batches):\n",
        "    if i == 0:\n",
        "        train_data = batch[b'data']\n",
        "        train_labels = batch[b'labels']\n",
        "    else:\n",
        "        train_data = torch.cat((train_data, batch[b'data']), 0)\n",
        "        train_labels = torch.cat((train_labels, batch[b'labels']), 0)\n",
        "\n",
        "# Convert to float since our model only accepts floats\n",
        "train_data.float()\n",
        "\n",
        "print(train_data.shape)\n",
        "print(train_labels.shape)"
      ]
    },
    {
      "cell_type": "code",
      "source": [
        "test_data = test_batch[b'data'].float()\n",
        "test_labels = test_batch[b'labels']\n",
        "\n",
        "print(test_data.shape)\n",
        "print(test_labels.shape)"
      ],
      "metadata": {
        "colab": {
          "base_uri": "https://localhost:8080/"
        },
        "id": "eCN_f5zU9ZiB",
        "outputId": "713219a9-d315-4c56-aa43-db6bbb53c2d7"
      },
      "execution_count": 40,
      "outputs": [
        {
          "output_type": "stream",
          "name": "stdout",
          "text": [
            "torch.Size([10000, 3, 32, 32])\n",
            "torch.Size([10000])\n"
          ]
        }
      ]
    },
    {
      "cell_type": "markdown",
      "metadata": {
        "id": "IhVJh6XGD5_c"
      },
      "source": [
        "## Data Normalization\n",
        "\n",
        "Next, We will normalize each pixel across each channel so that any one pixel from a specific channel does not disproportionately affect the model training."
      ]
    },
    {
      "cell_type": "code",
      "execution_count": 41,
      "metadata": {
        "colab": {
          "base_uri": "https://localhost:8080/"
        },
        "id": "DWbaU5J6D5_c",
        "outputId": "9c8c972a-7a14-4ba4-c65c-454b065ffc42"
      },
      "outputs": [
        {
          "output_type": "stream",
          "name": "stdout",
          "text": [
            "Train Mean: tensor([125.3069, 122.9504, 113.8654])\n",
            "Train Standard Deviation: tensor([62.9901, 62.0856, 66.7016])\n",
            "Test Mean: tensor([126.0247, 123.7085, 114.8543])\n",
            "Test Standard Deviation: tensor([62.8932, 61.9344, 66.7027])\n"
          ]
        }
      ],
      "source": [
        "def calculateMeanAndStd(batches):\n",
        "    means = torch.zeros([len(batches), 3])\n",
        "    vars  = torch.zeros([len(batches), 3])\n",
        "    std = torch.zeros(3)\n",
        "    batch_size = batches[0][b'data'].shape[0] # batch_size == 10000\n",
        "\n",
        "    for i, batch in enumerate(batches):\n",
        "        means[i] = batch[b'data'].mean([0, 2, 3])\n",
        "        vars[i]  = batch[b'data'].var([0, 2, 3])\n",
        "\n",
        "    mean = means.sum(dim=0) / len(batches)\n",
        "\n",
        "    for i in range(len(batches)):\n",
        "        std += (batch_size - 1) * vars[i] + batch_size * ((means[i] - mean) ** 2)\n",
        "    std = (std / (len(batches) * batch_size)) ** 0.5\n",
        "    return mean, std\n",
        "\n",
        "train_mean, train_std = calculateMeanAndStd(train_batches)\n",
        "test_mean, test_std = calculateMeanAndStd([test_batch])\n",
        "\n",
        "print('Train Mean:', train_mean)\n",
        "print('Train Standard Deviation:', train_std)\n",
        "print('Test Mean:', test_mean)\n",
        "print('Test Standard Deviation:', test_std)"
      ]
    },
    {
      "cell_type": "code",
      "source": [
        "# Normalizing Step\n",
        "\n",
        "train_data = (train_data - train_mean.view(3, 1, 1)) / train_std.view(3, 1, 1)\n",
        "test_data = (test_data - test_mean.view(3, 1, 1)) / test_std.view(3, 1, 1)"
      ],
      "metadata": {
        "id": "fIqsCHvP8YVj"
      },
      "execution_count": 42,
      "outputs": []
    },
    {
      "cell_type": "markdown",
      "metadata": {
        "id": "jRAL9uFqD5_d"
      },
      "source": [
        "# Cross Entropy Loss\n",
        "\n",
        "Cross-entropy loss (AKA log loss) measures how 'inaccurate' a model is. It is used for models that output probability values. Our model is trying to classify images and for a given image, it assigns the probability the image is a member of a certain class.\n",
        "\n",
        "![Graph of cross entropy loss when the label is true](cross_entropy.webp)\n",
        "\n",
        "Notably, cross-entropy loss penalizes severely for predictions that are confident and wrong.\n",
        "\n",
        "# Stochastic Gradient Descent\n",
        "\n",
        "Stochastic Gradient Descent (SGD) is an optimization algorithm used to update the parameters of a machine learning model to reduce loss. SGD implements the following updating algorithm:\n",
        "\n",
        "$$\\theta_i = \\theta_i - \\alpha \\frac{\\partial L}{\\partial \\theta_i}$$\n",
        "\n",
        "We often add a momentum term, which additionally modifies the weights by keeping an exponentially weighted moving average. The momentum term, essentially adds weightage to past values of the gradient. Empirically, this leads to quicker convergence on a minimum."
      ]
    },
    {
      "cell_type": "code",
      "execution_count": 43,
      "metadata": {
        "colab": {
          "base_uri": "https://localhost:8080/"
        },
        "id": "BVVskI0hD5_d",
        "outputId": "1a400689-bfe5-4d41-82cc-d48002788e31"
      },
      "outputs": [
        {
          "output_type": "stream",
          "name": "stdout",
          "text": [
            "Number of model parameters: 4872790\n"
          ]
        }
      ],
      "source": [
        "model = CNN()\n",
        "total_params = sum(p.numel() for p in model.parameters())\n",
        "print(\"Number of model parameters:\", total_params)\n",
        "\n",
        "loss_fn = nn.CrossEntropyLoss()\n",
        "optimizer = optim.SGD(model.parameters(), lr=0.001, momentum=0.9, weight_decay=0.01)"
      ]
    },
    {
      "cell_type": "markdown",
      "source": [
        "# Using GPU"
      ],
      "metadata": {
        "id": "oq3rvF-viNYf"
      }
    },
    {
      "cell_type": "code",
      "source": [
        "!nvidia-smi"
      ],
      "metadata": {
        "colab": {
          "base_uri": "https://localhost:8080/"
        },
        "id": "cEOgvW6miLUT",
        "outputId": "bd032fb7-fc41-4425-b119-23c4166aec53"
      },
      "execution_count": 44,
      "outputs": [
        {
          "output_type": "stream",
          "name": "stdout",
          "text": [
            "Wed Oct 11 22:40:38 2023       \n",
            "+-----------------------------------------------------------------------------+\n",
            "| NVIDIA-SMI 525.105.17   Driver Version: 525.105.17   CUDA Version: 12.0     |\n",
            "|-------------------------------+----------------------+----------------------+\n",
            "| GPU  Name        Persistence-M| Bus-Id        Disp.A | Volatile Uncorr. ECC |\n",
            "| Fan  Temp  Perf  Pwr:Usage/Cap|         Memory-Usage | GPU-Util  Compute M. |\n",
            "|                               |                      |               MIG M. |\n",
            "|===============================+======================+======================|\n",
            "|   0  Tesla T4            Off  | 00000000:00:04.0 Off |                    0 |\n",
            "| N/A   48C    P0    26W /  70W |  12079MiB / 15360MiB |      0%      Default |\n",
            "|                               |                      |                  N/A |\n",
            "+-------------------------------+----------------------+----------------------+\n",
            "                                                                               \n",
            "+-----------------------------------------------------------------------------+\n",
            "| Processes:                                                                  |\n",
            "|  GPU   GI   CI        PID   Type   Process name                  GPU Memory |\n",
            "|        ID   ID                                                   Usage      |\n",
            "|=============================================================================|\n",
            "+-----------------------------------------------------------------------------+\n"
          ]
        }
      ]
    },
    {
      "cell_type": "code",
      "source": [
        "device = torch.device(\"cuda:0\" if torch.cuda.is_available() else \"cpu\")\n",
        "print(device)"
      ],
      "metadata": {
        "colab": {
          "base_uri": "https://localhost:8080/"
        },
        "id": "M3K5V5RliWo-",
        "outputId": "07ef1362-cee9-49c7-aacf-e6838a7dce0d"
      },
      "execution_count": 45,
      "outputs": [
        {
          "output_type": "stream",
          "name": "stdout",
          "text": [
            "cuda:0\n"
          ]
        }
      ]
    },
    {
      "cell_type": "code",
      "source": [
        "train_data = train_data.cuda()\n",
        "train_labels = train_labels.cuda()\n",
        "test_data = test_data.cuda()\n",
        "test_labels = test_labels.cuda()\n",
        "\n",
        "model.cuda()\n",
        "\n",
        "acc_metric = torchmetrics.Accuracy(task='multiclass', num_classes=10).cuda()"
      ],
      "metadata": {
        "id": "HFw3qt2IiXyM"
      },
      "execution_count": 46,
      "outputs": []
    },
    {
      "cell_type": "markdown",
      "metadata": {
        "id": "SRRqPxv_D5_d"
      },
      "source": [
        "# Training and Testing"
      ]
    },
    {
      "cell_type": "code",
      "execution_count": 47,
      "metadata": {
        "colab": {
          "base_uri": "https://localhost:8080/"
        },
        "id": "E5KjW583D5_d",
        "outputId": "8e062b4e-a3a7-4341-a209-77d8537aa64f"
      },
      "outputs": [
        {
          "output_type": "stream",
          "name": "stdout",
          "text": [
            "Train Metrics Epoch 0 Loss 1.6132 Accuracy 0.4108\n",
            "Test Metrics Epoch 0 Loss 1.2995 Accuracy 0.5316\n",
            "Train Metrics Epoch 1 Loss 1.1836 Accuracy 0.5789\n",
            "Test Metrics Epoch 1 Loss 1.0356 Accuracy 0.6321\n",
            "Train Metrics Epoch 2 Loss 0.9830 Accuracy 0.6583\n",
            "Test Metrics Epoch 2 Loss 0.8805 Accuracy 0.6962\n",
            "Train Metrics Epoch 3 Loss 0.8408 Accuracy 0.7127\n",
            "Test Metrics Epoch 3 Loss 0.7769 Accuracy 0.7350\n",
            "Train Metrics Epoch 4 Loss 0.7413 Accuracy 0.7500\n",
            "Test Metrics Epoch 4 Loss 0.6896 Accuracy 0.7688\n",
            "Train Metrics Epoch 5 Loss 0.6619 Accuracy 0.7805\n",
            "Test Metrics Epoch 5 Loss 0.6369 Accuracy 0.7871\n",
            "Train Metrics Epoch 6 Loss 0.6018 Accuracy 0.8042\n",
            "Test Metrics Epoch 6 Loss 0.5890 Accuracy 0.8097\n",
            "Train Metrics Epoch 7 Loss 0.5447 Accuracy 0.8255\n",
            "Test Metrics Epoch 7 Loss 0.5611 Accuracy 0.8169\n",
            "Train Metrics Epoch 8 Loss 0.4983 Accuracy 0.8422\n",
            "Test Metrics Epoch 8 Loss 0.5195 Accuracy 0.8343\n",
            "Train Metrics Epoch 9 Loss 0.4618 Accuracy 0.8563\n",
            "Test Metrics Epoch 9 Loss 0.5069 Accuracy 0.8349\n",
            "Train Metrics Epoch 10 Loss 0.4272 Accuracy 0.8687\n",
            "Test Metrics Epoch 10 Loss 0.4833 Accuracy 0.8455\n",
            "Train Metrics Epoch 11 Loss 0.3992 Accuracy 0.8786\n",
            "Test Metrics Epoch 11 Loss 0.4700 Accuracy 0.8462\n",
            "Train Metrics Epoch 12 Loss 0.3708 Accuracy 0.8882\n",
            "Test Metrics Epoch 12 Loss 0.4461 Accuracy 0.8565\n",
            "Train Metrics Epoch 13 Loss 0.3494 Accuracy 0.8960\n",
            "Test Metrics Epoch 13 Loss 0.4388 Accuracy 0.8593\n",
            "Train Metrics Epoch 14 Loss 0.3328 Accuracy 0.9015\n",
            "Test Metrics Epoch 14 Loss 0.4406 Accuracy 0.8621\n",
            "Train Metrics Epoch 15 Loss 0.3226 Accuracy 0.9057\n",
            "Test Metrics Epoch 15 Loss 0.4368 Accuracy 0.8589\n",
            "Train Metrics Epoch 16 Loss 0.3145 Accuracy 0.9085\n",
            "Test Metrics Epoch 16 Loss 0.4249 Accuracy 0.8604\n",
            "Train Metrics Epoch 17 Loss 0.3045 Accuracy 0.9123\n",
            "Test Metrics Epoch 17 Loss 0.4349 Accuracy 0.8634\n",
            "Train Metrics Epoch 18 Loss 0.2988 Accuracy 0.9134\n",
            "Test Metrics Epoch 18 Loss 0.4244 Accuracy 0.8628\n",
            "Train Metrics Epoch 19 Loss 0.2900 Accuracy 0.9165\n",
            "Test Metrics Epoch 19 Loss 0.4210 Accuracy 0.8677\n",
            "Train Metrics Epoch 20 Loss 0.2843 Accuracy 0.9190\n",
            "Test Metrics Epoch 20 Loss 0.4328 Accuracy 0.8608\n",
            "Train Metrics Epoch 21 Loss 0.2758 Accuracy 0.9211\n",
            "Test Metrics Epoch 21 Loss 0.4398 Accuracy 0.8629\n",
            "Train Metrics Epoch 22 Loss 0.2708 Accuracy 0.9243\n",
            "Test Metrics Epoch 22 Loss 0.4309 Accuracy 0.8680\n",
            "Train Metrics Epoch 23 Loss 0.2645 Accuracy 0.9260\n",
            "Test Metrics Epoch 23 Loss 0.4031 Accuracy 0.8741\n",
            "Train Metrics Epoch 24 Loss 0.2642 Accuracy 0.9256\n",
            "Test Metrics Epoch 24 Loss 0.4176 Accuracy 0.8682\n",
            "Train Metrics Epoch 25 Loss 0.2585 Accuracy 0.9272\n",
            "Test Metrics Epoch 25 Loss 0.4083 Accuracy 0.8710\n",
            "Train Metrics Epoch 26 Loss 0.2556 Accuracy 0.9284\n",
            "Test Metrics Epoch 26 Loss 0.4177 Accuracy 0.8700\n",
            "Train Metrics Epoch 27 Loss 0.2540 Accuracy 0.9294\n",
            "Test Metrics Epoch 27 Loss 0.4202 Accuracy 0.8675\n",
            "Train Metrics Epoch 28 Loss 0.2516 Accuracy 0.9301\n",
            "Test Metrics Epoch 28 Loss 0.4309 Accuracy 0.8630\n",
            "Train Metrics Epoch 29 Loss 0.2476 Accuracy 0.9318\n",
            "Test Metrics Epoch 29 Loss 0.4062 Accuracy 0.8733\n",
            "Train Metrics Epoch 30 Loss 0.2425 Accuracy 0.9330\n",
            "Test Metrics Epoch 30 Loss 0.4131 Accuracy 0.8714\n",
            "Train Metrics Epoch 31 Loss 0.2480 Accuracy 0.9312\n",
            "Test Metrics Epoch 31 Loss 0.4102 Accuracy 0.8697\n",
            "Train Metrics Epoch 32 Loss 0.2402 Accuracy 0.9338\n",
            "Test Metrics Epoch 32 Loss 0.4327 Accuracy 0.8660\n",
            "Train Metrics Epoch 33 Loss 0.2406 Accuracy 0.9335\n",
            "Test Metrics Epoch 33 Loss 0.3990 Accuracy 0.8770\n",
            "Train Metrics Epoch 34 Loss 0.2390 Accuracy 0.9344\n",
            "Test Metrics Epoch 34 Loss 0.3906 Accuracy 0.8774\n",
            "Train Metrics Epoch 35 Loss 0.2378 Accuracy 0.9344\n",
            "Test Metrics Epoch 35 Loss 0.4189 Accuracy 0.8701\n",
            "Train Metrics Epoch 36 Loss 0.2370 Accuracy 0.9355\n",
            "Test Metrics Epoch 36 Loss 0.4097 Accuracy 0.8711\n",
            "Train Metrics Epoch 37 Loss 0.2360 Accuracy 0.9348\n",
            "Test Metrics Epoch 37 Loss 0.4061 Accuracy 0.8724\n",
            "Train Metrics Epoch 38 Loss 0.2310 Accuracy 0.9372\n",
            "Test Metrics Epoch 38 Loss 0.3976 Accuracy 0.8754\n",
            "Train Metrics Epoch 39 Loss 0.2319 Accuracy 0.9363\n",
            "Test Metrics Epoch 39 Loss 0.4269 Accuracy 0.8673\n",
            "Train Metrics Epoch 40 Loss 0.2298 Accuracy 0.9378\n",
            "Test Metrics Epoch 40 Loss 0.4119 Accuracy 0.8689\n",
            "Train Metrics Epoch 41 Loss 0.2294 Accuracy 0.9379\n",
            "Test Metrics Epoch 41 Loss 0.4119 Accuracy 0.8734\n",
            "Train Metrics Epoch 42 Loss 0.2295 Accuracy 0.9374\n",
            "Test Metrics Epoch 42 Loss 0.3993 Accuracy 0.8794\n",
            "Train Metrics Epoch 43 Loss 0.2268 Accuracy 0.9378\n",
            "Test Metrics Epoch 43 Loss 0.4040 Accuracy 0.8730\n",
            "Train Metrics Epoch 44 Loss 0.2256 Accuracy 0.9385\n",
            "Test Metrics Epoch 44 Loss 0.4180 Accuracy 0.8680\n",
            "Train Metrics Epoch 45 Loss 0.2254 Accuracy 0.9388\n",
            "Test Metrics Epoch 45 Loss 0.3984 Accuracy 0.8760\n",
            "Train Metrics Epoch 46 Loss 0.2242 Accuracy 0.9397\n",
            "Test Metrics Epoch 46 Loss 0.3993 Accuracy 0.8722\n",
            "Train Metrics Epoch 47 Loss 0.2234 Accuracy 0.9398\n",
            "Test Metrics Epoch 47 Loss 0.3889 Accuracy 0.8776\n",
            "Train Metrics Epoch 48 Loss 0.2231 Accuracy 0.9397\n",
            "Test Metrics Epoch 48 Loss 0.3953 Accuracy 0.8798\n",
            "Train Metrics Epoch 49 Loss 0.2212 Accuracy 0.9396\n",
            "Test Metrics Epoch 49 Loss 0.3949 Accuracy 0.8774\n"
          ]
        }
      ],
      "source": [
        "EPOCHS = 50\n",
        "BATCH_SIZE = 64\n",
        "NUM_OF_TRAIN_SAMPLES = train_data.shape[0] # 10 * 10000\n",
        "NUM_OF_TRAIN_BATCHES = (NUM_OF_TRAIN_SAMPLES + BATCH_SIZE - 1) // BATCH_SIZE\n",
        "NUM_OF_TEST_SAMPLES = test_data.shape[0]\n",
        "loss_train_history = []\n",
        "accuracy_train_history = []\n",
        "loss_test_history = []\n",
        "accuracy_test_history = []\n",
        "\n",
        "for epoch in range(EPOCHS):\n",
        "    accuracy_train_epoch = 0.0\n",
        "    loss_train_epoch = 0.0\n",
        "\n",
        "    for i in range(NUM_OF_TRAIN_BATCHES):\n",
        "\n",
        "        # Slice our dataset into batches of size BATCH_SIZE\n",
        "        start_idx = i * BATCH_SIZE\n",
        "        end_idx = min((i + 1) * BATCH_SIZE, NUM_OF_TRAIN_SAMPLES)\n",
        "        X = train_data[start_idx : end_idx]\n",
        "        Y = train_labels[start_idx : end_idx]\n",
        "\n",
        "        # Get the model predictions\n",
        "        Y_pred = model(X)\n",
        "\n",
        "        # Calculate loss\n",
        "        loss = loss_fn(Y_pred, Y)\n",
        "\n",
        "        # Zero out the gradient\n",
        "        optimizer.zero_grad()\n",
        "\n",
        "        # Get gradients through backprop\n",
        "        loss.backward()\n",
        "\n",
        "        # We multiply by batch size since we will ultimately divide by total training samples. This gives us average loss per epoch\n",
        "        loss_train_epoch += loss.item() * BATCH_SIZE\n",
        "\n",
        "        # Calculate number of correct predictions\n",
        "        accuracy_train_epoch += acc_metric(Y_pred, Y).float() * BATCH_SIZE\n",
        "\n",
        "        # Update parameters of model\n",
        "        optimizer.step()\n",
        "\n",
        "    accuracy_train_epoch /= NUM_OF_TRAIN_SAMPLES\n",
        "    accuracy_train_history.append(accuracy_train_epoch)\n",
        "    loss_train_epoch /= NUM_OF_TRAIN_SAMPLES\n",
        "    loss_train_history.append(loss_train_epoch)\n",
        "    print(f'Train Metrics Epoch {epoch} Loss {loss_train_epoch:.4f} Accuracy {accuracy_train_epoch:.4f}')\n",
        "\n",
        "    loss_test_epoch = 0.0\n",
        "    accuracy_test_epoch = 0.0\n",
        "\n",
        "    # No need to keep track of gradients while evaluating the model\n",
        "    with torch.no_grad():\n",
        "        X = test_data\n",
        "        Y = test_labels\n",
        "\n",
        "        # Calculate model predictions\n",
        "        Y_pred = model(X)\n",
        "\n",
        "        # Calculate loss\n",
        "        loss = loss_fn(Y_pred, Y)\n",
        "\n",
        "        loss_test_history.append(loss.item())\n",
        "\n",
        "        # Get the accuracy\n",
        "        accuracy_test_epoch = acc_metric(Y_pred, Y).float()\n",
        "        accuracy_test_history.append(accuracy_test_epoch)\n",
        "\n",
        "        print(f'Test Metrics Epoch {epoch} Loss {loss:.4f} Accuracy {accuracy_test_epoch:.4f}')"
      ]
    },
    {
      "cell_type": "markdown",
      "source": [
        "# Pushing Test Accuracy Up!\n",
        "\n",
        "2. After adding dropout, test 80%, train 78%\n",
        "3. After increasing batch size from 16 to 32, test 82.5%, train 82.5% in 4 mins\n",
        "4. with 64 batch size, test 82.3%, train 82.5% in 3 mins\n",
        "5. After increasing width of convolutional layers, test 83.5%, train 85% in 6 mins\n",
        "\n",
        "Now that we have augmented our CNN, we can try training it for 50 epochs. After 50 epochs, we get train accuracy of 94% and test accuracy 88%!"
      ],
      "metadata": {
        "id": "9cWt1Gw8Eitt"
      }
    },
    {
      "cell_type": "markdown",
      "source": [
        "# Test and Training Accuracy & Loss Graphs"
      ],
      "metadata": {
        "id": "A4oCXhdVWZDO"
      }
    },
    {
      "cell_type": "code",
      "source": [
        "x = torch.arange(1, EPOCHS + 1)\n",
        "\n",
        "plt.plot(x, loss_train_history, label='Train', color='blue', linestyle='-', marker='o')\n",
        "\n",
        "plt.plot(x, loss_test_history, label='Test', color='red', linestyle='--', marker='x')\n",
        "\n",
        "# Add labels and a legend\n",
        "plt.xlabel('Epochs')\n",
        "plt.ylabel('Loss')\n",
        "plt.title('Train and Test Losses')\n",
        "plt.legend()\n",
        "\n",
        "# Display the plot\n",
        "plt.show()"
      ],
      "metadata": {
        "colab": {
          "base_uri": "https://localhost:8080/",
          "height": 472
        },
        "id": "nd62I3_7L8y4",
        "outputId": "01c8da31-750c-41c6-d330-53e17c79abca"
      },
      "execution_count": 48,
      "outputs": [
        {
          "output_type": "display_data",
          "data": {
            "text/plain": [
              "<Figure size 640x480 with 1 Axes>"
            ],
            "image/png": "[encoded data removed]"
          },
          "metadata": {}
        }
      ]
    },
    {
      "cell_type": "code",
      "source": [
        "x = torch.arange(1, EPOCHS + 1)\n",
        "train_acc = []\n",
        "test_acc = []\n",
        "for i, acc in enumerate(accuracy_train_history):\n",
        "    train_acc.append(acc.to(\"cpu\"))\n",
        "\n",
        "for i, acc in enumerate(accuracy_test_history):\n",
        "    test_acc.append(acc.to(\"cpu\"))\n",
        "\n",
        "plt.plot(x, train_acc, label='Train', color='blue', linestyle='-')\n",
        "\n",
        "plt.plot(x, test_acc, label='Test', color='red', linestyle='-')\n",
        "\n",
        "# Add labels and a legend\n",
        "plt.xlabel('Epochs')\n",
        "plt.ylabel('Accuracy')\n",
        "plt.title('Train and Test Accuracy')\n",
        "plt.legend()\n",
        "\n",
        "# Display the plot\n",
        "plt.show()"
      ],
      "metadata": {
        "colab": {
          "base_uri": "https://localhost:8080/",
          "height": 472
        },
        "id": "oviRfyLFCkQi",
        "outputId": "1e903964-7d04-4c43-e174-1adaa004bb42"
      },
      "execution_count": 55,
      "outputs": [
        {
          "output_type": "display_data",
          "data": {
            "text/plain": [
              "<Figure size 640x480 with 1 Axes>"
            ],
            "image/png": "[encoded data removed]"
          },
          "metadata": {}
        }
      ]
    }
  ],
  "metadata": {
    "kernelspec": {
      "display_name": "Python 3",
      "name": "python3"
    },
    "language_info": {
      "codemirror_mode": {
        "name": "ipython",
        "version": 3
      },
      "file_extension": ".py",
      "mimetype": "text/x-python",
      "name": "python",
      "nbconvert_exporter": "python",
      "pygments_lexer": "ipython3",
      "version": "3.11.0"
    },
    "orig_nbformat": 4,
    "colab": {
      "provenance": [],
      "gpuType": "T4"
    },
    "accelerator": "GPU"
  },
  "nbformat": 4,
  "nbformat_minor": 0
}